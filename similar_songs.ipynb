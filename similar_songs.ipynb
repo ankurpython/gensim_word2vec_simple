{
 "cells": [
  {
   "metadata": {
    "ExecuteTime": {
     "end_time": "2025-08-26T13:31:32.591074Z",
     "start_time": "2025-08-26T13:30:54.153366Z"
    }
   },
   "cell_type": "code",
   "source": "!pip install --upgrade gensim",
   "id": "fb0437a7d887d269",
   "outputs": [
    {
     "name": "stdout",
     "output_type": "stream",
     "text": [
      "Collecting gensim\r\n",
      "  Downloading gensim-4.3.3-cp310-cp310-macosx_11_0_arm64.whl (24.0 MB)\r\n",
      "\u001B[2K     \u001B[90m━━━━━━━━━━━━━━━━━━━━━━━━━━━━━━━━━━━━━━━━\u001B[0m \u001B[32m24.0/24.0 MB\u001B[0m \u001B[31m2.6 MB/s\u001B[0m eta \u001B[36m0:00:00\u001B[0m00:01\u001B[0m00:01\u001B[0m\r\n",
      "\u001B[?25hCollecting scipy<1.14.0,>=1.7.0\r\n",
      "  Downloading scipy-1.13.1-cp310-cp310-macosx_12_0_arm64.whl (30.3 MB)\r\n",
      "\u001B[2K     \u001B[90m━━━━━━━━━━━━━━━━━━━━━━━━━━━━━━━━━━━━━━━━\u001B[0m \u001B[32m30.3/30.3 MB\u001B[0m \u001B[31m2.3 MB/s\u001B[0m eta \u001B[36m0:00:00\u001B[0m00:01\u001B[0m00:01\u001B[0m\r\n",
      "\u001B[?25hRequirement already satisfied: smart-open>=1.8.1 in /Users/ankursaurabh/Downloads/learn/AI/venv/lib/python3.10/site-packages (from gensim) (7.3.0.post1)\r\n",
      "Collecting numpy<2.0,>=1.18.5\r\n",
      "  Downloading numpy-1.26.4-cp310-cp310-macosx_11_0_arm64.whl (14.0 MB)\r\n",
      "\u001B[2K     \u001B[90m━━━━━━━━━━━━━━━━━━━━━━━━━━━━━━━━━━━━━━━━\u001B[0m \u001B[32m14.0/14.0 MB\u001B[0m \u001B[31m2.2 MB/s\u001B[0m eta \u001B[36m0:00:00\u001B[0m00:01\u001B[0m00:01\u001B[0m\r\n",
      "\u001B[?25hRequirement already satisfied: wrapt in /Users/ankursaurabh/Downloads/learn/AI/venv/lib/python3.10/site-packages (from smart-open>=1.8.1->gensim) (1.17.2)\r\n",
      "Installing collected packages: numpy, scipy, gensim\r\n",
      "  Attempting uninstall: numpy\r\n",
      "    Found existing installation: numpy 2.1.3\r\n",
      "    Uninstalling numpy-2.1.3:\r\n",
      "      Successfully uninstalled numpy-2.1.3\r\n",
      "  Attempting uninstall: scipy\r\n",
      "    Found existing installation: scipy 1.15.3\r\n",
      "    Uninstalling scipy-1.15.3:\r\n",
      "      Successfully uninstalled scipy-1.15.3\r\n",
      "\u001B[31mERROR: pip's dependency resolver does not currently take into account all the packages that are installed. This behaviour is the source of the following dependency conflicts.\r\n",
      "thinc 8.3.6 requires numpy<3.0.0,>=2.0.0, but you have numpy 1.26.4 which is incompatible.\u001B[0m\u001B[31m\r\n",
      "\u001B[0mSuccessfully installed gensim-4.3.3 numpy-1.26.4 scipy-1.13.1\r\n",
      "\r\n",
      "\u001B[1m[\u001B[0m\u001B[34;49mnotice\u001B[0m\u001B[1;39;49m]\u001B[0m\u001B[39;49m A new release of pip is available: \u001B[0m\u001B[31;49m23.0.1\u001B[0m\u001B[39;49m -> \u001B[0m\u001B[32;49m25.2\u001B[0m\r\n",
      "\u001B[1m[\u001B[0m\u001B[34;49mnotice\u001B[0m\u001B[1;39;49m]\u001B[0m\u001B[39;49m To update, run: \u001B[0m\u001B[32;49mpip install --upgrade pip\u001B[0m\r\n"
     ]
    }
   ],
   "execution_count": 1
  },
  {
   "metadata": {
    "collapsed": true
   },
   "cell_type": "code",
   "outputs": [],
   "execution_count": null,
   "source": [
    "import pandas as pd\n",
    "from urllib import request\n",
    "\n",
    "#Get the playlist dataset file\n",
    "data = request.urlopen(\"https://storage.googleapis.com/maps-premium/dataset/yes_complete/train.txt\")\n",
    "\n",
    "#parse playlist dataset file. skip the first two line as they only contain metadata\n",
    "lines = data.read().decode(\"utf-8\").split(\"\\n\")[2:]\n",
    "\n",
    "#remove the playlist with only one songs\n",
    "playlists = [s.rstrip().split() for s in lines if len(s.split()) > 1]\n",
    "\n",
    "#Load song metadata\n",
    "songs_file = request.urlopen(\"https://storage.googleapis.com/maps-premium/dataset/yes_complete/song_hash.txt\")\n",
    "songs_file = songs_file.read().decode(\"utf-8\").split(\"\\n\")\n",
    "songs = [s.strip().split('\\t') for s in songs_file]\n",
    "\n",
    "songs_df = pd.DataFrame(data=songs,columns=['id','title','artist'])\n",
    "songs_df = songs_df.set_index('id')\n",
    "print(\"Playlist #1:\\n \", playlists[0],\"\\n\")\n",
    "print(\"Playlist #2:\\n \", playlists[1])"
   ],
   "id": "initial_id"
  },
  {
   "metadata": {},
   "cell_type": "code",
   "outputs": [],
   "execution_count": null,
   "source": [
    "# train the Model\n",
    "from gensim.models import Word2Vec\n",
    "\n",
    "model = Word2Vec(playlists,vector_size=100,window=20,negative=50,min_count=4,workers=4)"
   ],
   "id": "4066b0a0d2a4c9e2"
  },
  {
   "metadata": {},
   "cell_type": "code",
   "outputs": [],
   "execution_count": null,
   "source": [
    "#Recommendation of similar songs\n",
    "import numpy as np\n",
    "def print_recommendations(song_id):\n",
    "  similiar_songs = np.array(\n",
    "      model.wv.most_similar(positive=str(song_id),topn=5))\n",
    "  return songs_df.iloc[similiar_songs]\n",
    "\n",
    "print_recommendations(2177)\n"
   ],
   "id": "7d14474dac652585"
  }
 ],
 "metadata": {
  "kernelspec": {
   "display_name": "Python 3",
   "language": "python",
   "name": "python3"
  },
  "language_info": {
   "codemirror_mode": {
    "name": "ipython",
    "version": 2
   },
   "file_extension": ".py",
   "mimetype": "text/x-python",
   "name": "python",
   "nbconvert_exporter": "python",
   "pygments_lexer": "ipython2",
   "version": "2.7.6"
  }
 },
 "nbformat": 4,
 "nbformat_minor": 5
}
